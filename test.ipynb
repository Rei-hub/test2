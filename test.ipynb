{
 "cells": [
  {
   "cell_type": "code",
   "execution_count": 1,
   "id": "2aea5bf1-2186-4828-94bc-80ee6a732ee4",
   "metadata": {
    "execution": {
     "iopub.execute_input": "2025-10-07T18:47:09.362544Z",
     "iopub.status.busy": "2025-10-07T18:47:09.362086Z",
     "iopub.status.idle": "2025-10-07T18:47:10.727880Z",
     "shell.execute_reply": "2025-10-07T18:47:10.727566Z",
     "shell.execute_reply.started": "2025-10-07T18:47:09.362499Z"
    }
   },
   "outputs": [],
   "source": [
    "import pandas as pd"
   ]
  },
  {
   "cell_type": "code",
   "execution_count": null,
   "id": "82c274d4-1693-4cc6-aca2-7b0ebe8b764a",
   "metadata": {},
   "outputs": [],
   "source": [
    "pd.read_excel"
   ]
  }
 ],
 "metadata": {
  "kernelspec": {
   "display_name": "Python 3 (ipykernel)",
   "language": "python",
   "name": "python3"
  },
  "language_info": {
   "codemirror_mode": {
    "name": "ipython",
    "version": 3
   },
   "file_extension": ".py",
   "mimetype": "text/x-python",
   "name": "python",
   "nbconvert_exporter": "python",
   "pygments_lexer": "ipython3",
   "version": "3.10.14"
  }
 },
 "nbformat": 4,
 "nbformat_minor": 5
}
