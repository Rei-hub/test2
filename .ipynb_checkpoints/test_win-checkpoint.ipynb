{
 "cells": [
  {
   "cell_type": "code",
   "execution_count": null,
   "id": "24aa28e6-ad77-4028-b95e-f896e8d99819",
   "metadata": {},
   "outputs": [],
   "source": [
    "import matplotlib.pylot as plt"
   ]
  },
  {
   "cell_type": "code",
   "execution_count": null,
   "id": "c0324b33-02b0-45e1-bd6a-a885af76f5cc",
   "metadata": {},
   "outputs": [],
   "source": [
    "# Collaborator側で編集してコミット\n"
   ]
  }
 ],
 "metadata": {
  "kernelspec": {
   "display_name": "Python 3 (ipykernel)",
   "language": "python",
   "name": "python3"
  },
  "language_info": {
   "codemirror_mode": {
    "name": "ipython",
    "version": 3
   },
   "file_extension": ".py",
   "mimetype": "text/x-python",
   "name": "python",
   "nbconvert_exporter": "python",
   "pygments_lexer": "ipython3",
   "version": "3.12.5"
  }
 },
 "nbformat": 4,
 "nbformat_minor": 5
}
